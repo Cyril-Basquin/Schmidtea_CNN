{
 "cells": [
  {
   "cell_type": "markdown",
   "metadata": {},
   "source": [
    "\"Code trouble\": when iteration is occuring inside excel file, the stopping criterion is:\n",
    "        while xls_sheet.cell_value(i, 1) != '': \n",
    "Meaning that if there no BB angle associate with this line, the loop stop. The problem is that sometimes (not often) there exists centriole with coordinate but no angle.. Leading to an early stop iteration in the xls file."
   ]
  },
  {
   "cell_type": "markdown",
   "metadata": {},
   "source": [
    "#### Import packages"
   ]
  },
  {
   "cell_type": "code",
   "execution_count": 1,
   "metadata": {},
   "outputs": [],
   "source": [
    "# Image processing\n",
    "from PIL import Image \n",
    "\n",
    "# for working on excel file\n",
    "import xlrd  \n",
    "\n",
    "# To get a list of the file in a folder\n",
    "import glob  \n",
    "\n",
    "import numpy as np"
   ]
  },
  {
   "cell_type": "code",
   "execution_count": 2,
   "metadata": {},
   "outputs": [
    {
     "name": "stdout",
     "output_type": "stream",
     "text": [
      "C:\\Users\\breto\\Desktop\\Data_Analysis\\Schmidtea_CNN\n"
     ]
    }
   ],
   "source": [
    "cd C:\\Users\\breto\\Desktop\\Data_Analysis\\Schmidtea_CNN\\"
   ]
  },
  {
   "cell_type": "code",
   "execution_count": 3,
   "metadata": {},
   "outputs": [],
   "source": [
    "# List all .xlsm files (contain BB coordinate and orientation) in the folder 'data'\n",
    "xls_list = glob.glob(\"C:/Users/breto/Desktop/Data_Analysis/Schmidtea_CNN/data/*.xlsm\")\n",
    "\n",
    "# List all .tif images (where BB are annotated) in the folder 'data'\n",
    "tif_list = glob.glob(\"C:/Users/breto/Desktop/Data_Analysis/Schmidtea_CNN/data/*.tif\")"
   ]
  },
  {
   "cell_type": "code",
   "execution_count": 4,
   "metadata": {},
   "outputs": [],
   "source": [
    "if len(xls_list) > len(tif_list):\n",
    "    print(\"Take care: an Xls file is missing\")\n",
    "elif len(xls_list) < len(tif_list):\n",
    "    print(\"Take care: an Tif file is missing\")\n",
    "\n",
    "for i in range(max(len(xls_list), len(tif_list))):\n",
    "    if xls_list[i][:-4] != tif_list[i][:-3]:\n",
    "        print(\"A xls/tif is not appariate with a tif/xsl\")"
   ]
  },
  {
   "cell_type": "markdown",
   "metadata": {},
   "source": [
    "## Define size of the crop"
   ]
  },
  {
   "cell_type": "code",
   "execution_count": null,
   "metadata": {},
   "outputs": [],
   "source": [
    "#Size of the expected image output\n",
    "size_img = 32"
   ]
  },
  {
   "cell_type": "markdown",
   "metadata": {},
   "source": [
    "### Extract images"
   ]
  },
  {
   "cell_type": "code",
   "execution_count": 6,
   "metadata": {},
   "outputs": [
    {
     "name": "stdout",
     "output_type": "stream",
     "text": [
      "Number of file treated: 1/20\n",
      "Number of file treated: 2/20\n",
      "Number of file treated: 3/20\n",
      "Number of file treated: 4/20\n",
      "Number of file treated: 5/20\n",
      "Number of file treated: 6/20\n",
      "Number of file treated: 7/20\n",
      "Number of file treated: 8/20\n",
      "Number of file treated: 9/20\n",
      "Number of file treated: 10/20\n",
      "Number of file treated: 11/20\n",
      "Number of file treated: 12/20\n",
      "Number of file treated: 13/20\n",
      "Number of file treated: 14/20\n",
      "Number of file treated: 15/20\n",
      "Number of file treated: 16/20\n",
      "Number of file treated: 17/20\n",
      "Number of file treated: 18/20\n",
      "Number of file treated: 19/20\n",
      "Number of file treated: 20/20\n"
     ]
    },
    {
     "data": {
      "text/plain": [
       "(55797,)"
      ]
     },
     "execution_count": 6,
     "metadata": {},
     "output_type": "execute_result"
    }
   ],
   "source": [
    "# Define Image size openable with PIL (default size is too small)\n",
    "Image.MAX_IMAGE_PIXELS = 10000000000\n",
    "\n",
    "# Initialisation of the centriole (~Basal body) coordinate and angle list\n",
    "count = 0\n",
    "centriole_coordinate = []\n",
    "angle_list = []\n",
    "centriole_img_list = []\n",
    "\n",
    "# Iteration trough the excel file\n",
    "for k in range(len(xls_list)):\n",
    "    print(\"Number of file treated: {}/{}\".format(k+1, len(xls_list)))\n",
    "\n",
    "    # Open the image\n",
    "    tif_file = Image.open(tif_list[k])\n",
    "    \n",
    "    # Open the excel file and go to appropriate sheet (index 0)\n",
    "    xls_file = xlrd.open_workbook(xls_list[k])\n",
    "    xls_sheet = xls_file.sheet_by_index(0)\n",
    "\n",
    "    # In the Excel file, the coordinate of BB starts at row 7\n",
    "    # This variable will iterate a reinitialisation is required after each xls file\n",
    "    i = 7\n",
    "\n",
    "    # In the Excel file, iterate to find coordinate of all the centrioles\n",
    "    while xls_sheet.cell_value(i, 1) != '':\n",
    "        # Recover parameter of a centriol\n",
    "            # count = centriole number (ID)\n",
    "            # xls_(i,3) = X coordinate of the centriole\n",
    "            # xls_(i,4) = Y coordinate of the centriole\n",
    "            # xls_(i,1) = Orienation (Angle) of the centriole\n",
    "        coord = [count, xls_sheet.cell_value(i, 3), xls_sheet.cell_value(i, 4), xls_sheet.cell_value(i, 1)]\n",
    "        \n",
    "        # Append the basal body to the list of all centrioles\n",
    "        centriole_coordinate.append(coord)\n",
    "\n",
    "        # Create a list of the angle only\n",
    "        angle = [xls_sheet.cell_value(i, 1)]\n",
    "        angle_list.append(angle)\n",
    "\n",
    "        # Extract the centriole on the image\n",
    "        centriole_cropped = tif_file.crop((centriole_coordinate[count][1] - size_img/2, centriole_coordinate[count][2] - size_img/2, centriole_coordinate[count][1] + size_img/2, centriole_coordinate[count][2] + size_img/2))\n",
    "        #centriole_cropped.save(\"centriole_\" + str(count) + \".tif\")  # No need to save it\n",
    "        centriole_img_array = np.asarray(centriole_cropped)\n",
    "        centriole_img_list.append(centriole_img_array)\n",
    "        i += 1\n",
    "        count += 1\n",
    "\n",
    "centriole_list_array = np.asarray(centriole_img_list, dtype=\"int32\")\n",
    "angle_list_array = np.asarray(angle_list)\n",
    "angle_list_array = angle_list_array.ravel()\n"
   ]
  },
  {
   "cell_type": "markdown",
   "metadata": {},
   "source": [
    "### Data Exploration andcleaning\n",
    "\n",
    "**Same number of extracted images and angle?**"
   ]
  },
  {
   "cell_type": "code",
   "execution_count": 30,
   "metadata": {},
   "outputs": [
    {
     "name": "stdout",
     "output_type": "stream",
     "text": [
      "So far so good\n",
      "\n",
      "\n",
      "Centriole list shape: (55797, 32, 32)\n",
      "    Angle list shape: (55797,)\n"
     ]
    }
   ],
   "source": [
    "if centriole_list_array.shape[0] != angle_list_array.shape[0]:\n",
    "    print(\"Take your phone and Call Sherlock Holmes: you have a problem\")\n",
    "else: \n",
    "    print(\"So far so good\")\n",
    "    print(\"\\n\")\n",
    "    print(\"Centriole list shape: {}\".format(centriole_list_array.shape))\n",
    "    print(\"    Angle list shape: {}\".format(angle_list_array.shape))"
   ]
  },
  {
   "cell_type": "markdown",
   "metadata": {},
   "source": [
    "**Presence of Nan values?**"
   ]
  },
  {
   "cell_type": "code",
   "execution_count": 20,
   "metadata": {
    "scrolled": false
   },
   "outputs": [
    {
     "name": "stdout",
     "output_type": "stream",
     "text": [
      "Nan value in extracted images: 0\n",
      "Nan value in extracted angles: 0\n"
     ]
    }
   ],
   "source": [
    "print(\"Nan value in extracted images: {}\".format(np.count_nonzero(np.isnan(centriole_list_array))))\n",
    "print(\"Nan value in extracted angles: {}\".format(np.count_nonzero(np.isnan(angle_list_array))))"
   ]
  },
  {
   "cell_type": "markdown",
   "metadata": {},
   "source": [
    "**Absence of value in images?**"
   ]
  },
  {
   "cell_type": "code",
   "execution_count": 21,
   "metadata": {},
   "outputs": [
    {
     "name": "stdout",
     "output_type": "stream",
     "text": [
      "For 5689 images, the picture is completely black\n"
     ]
    }
   ],
   "source": [
    "x = centriole_list_array\n",
    "\n",
    "img_trouble_id =[]\n",
    "for i in range(x.shape[0]):\n",
    "    if x[i].min() == x[i].max():\n",
    "        img_trouble_id.append(i)\n",
    "        \n",
    "del x\n",
    "\n",
    "print(\"For {} images, the picture is completely black\".format(len(img_trouble_id)))"
   ]
  },
  {
   "cell_type": "markdown",
   "metadata": {},
   "source": [
    "Remove the problematic images.\n",
    "\n",
    "Note: It could be interesting to look at the file to understand why this happens."
   ]
  },
  {
   "cell_type": "code",
   "execution_count": 22,
   "metadata": {},
   "outputs": [],
   "source": [
    "img_to_delete = np.asarray(img_trouble_id)\n",
    "clean_centriole_array = centriole_list_array\n",
    "clean_angle_array = angle_list_array"
   ]
  },
  {
   "cell_type": "code",
   "execution_count": 35,
   "metadata": {},
   "outputs": [
    {
     "ename": "IndexError",
     "evalue": "index 54806 is out of bounds for axis 0 with size 50108",
     "output_type": "error",
     "traceback": [
      "\u001b[1;31m---------------------------------------------------------------------------\u001b[0m",
      "\u001b[1;31mIndexError\u001b[0m                                Traceback (most recent call last)",
      "\u001b[1;32m<ipython-input-35-b1f5b202e651>\u001b[0m in \u001b[0;36m<module>\u001b[1;34m\u001b[0m\n\u001b[0;32m      4\u001b[0m     \u001b[1;32mif\u001b[0m \u001b[0mj\u001b[0m \u001b[1;33m%\u001b[0m \u001b[1;36m100\u001b[0m \u001b[1;33m==\u001b[0m \u001b[1;36m0\u001b[0m \u001b[1;33m:\u001b[0m\u001b[1;33m\u001b[0m\u001b[1;33m\u001b[0m\u001b[0m\n\u001b[0;32m      5\u001b[0m         \u001b[0mprint\u001b[0m\u001b[1;33m(\u001b[0m\u001b[1;34m\"Treated images: {}/{}\"\u001b[0m\u001b[1;33m.\u001b[0m\u001b[0mformat\u001b[0m\u001b[1;33m(\u001b[0m\u001b[0mj\u001b[0m\u001b[1;33m,\u001b[0m \u001b[0mimg_to_delete\u001b[0m\u001b[1;33m.\u001b[0m\u001b[0mshape\u001b[0m\u001b[1;33m[\u001b[0m\u001b[1;36m0\u001b[0m\u001b[1;33m]\u001b[0m\u001b[1;33m)\u001b[0m\u001b[1;33m)\u001b[0m\u001b[1;33m\u001b[0m\u001b[1;33m\u001b[0m\u001b[0m\n\u001b[1;32m----> 6\u001b[1;33m     \u001b[0mclean_centriole_array\u001b[0m \u001b[1;33m=\u001b[0m \u001b[0mnp\u001b[0m\u001b[1;33m.\u001b[0m\u001b[0mdelete\u001b[0m\u001b[1;33m(\u001b[0m\u001b[0mclean_centriole_array\u001b[0m\u001b[1;33m,\u001b[0m \u001b[0mi\u001b[0m\u001b[1;33m,\u001b[0m \u001b[1;36m0\u001b[0m\u001b[1;33m)\u001b[0m\u001b[1;33m\u001b[0m\u001b[1;33m\u001b[0m\u001b[0m\n\u001b[0m\u001b[0;32m      7\u001b[0m     \u001b[0mclean_angle_array\u001b[0m \u001b[1;33m=\u001b[0m \u001b[0mnp\u001b[0m\u001b[1;33m.\u001b[0m\u001b[0mdelete\u001b[0m\u001b[1;33m(\u001b[0m\u001b[0mclean_angle_array\u001b[0m\u001b[1;33m,\u001b[0m \u001b[0mi\u001b[0m\u001b[1;33m,\u001b[0m \u001b[1;36m0\u001b[0m\u001b[1;33m)\u001b[0m\u001b[1;33m\u001b[0m\u001b[1;33m\u001b[0m\u001b[0m\n",
      "\u001b[1;32m<__array_function__ internals>\u001b[0m in \u001b[0;36mdelete\u001b[1;34m(*args, **kwargs)\u001b[0m\n",
      "\u001b[1;32mc:\\programdata\\miniconda3\\lib\\site-packages\\numpy\\lib\\function_base.py\u001b[0m in \u001b[0;36mdelete\u001b[1;34m(arr, obj, axis)\u001b[0m\n\u001b[0;32m   4373\u001b[0m             raise IndexError(\n\u001b[0;32m   4374\u001b[0m                 \u001b[1;34m\"index %i is out of bounds for axis %i with \"\u001b[0m\u001b[1;33m\u001b[0m\u001b[1;33m\u001b[0m\u001b[0m\n\u001b[1;32m-> 4375\u001b[1;33m                 \"size %i\" % (obj, axis, N))\n\u001b[0m\u001b[0;32m   4376\u001b[0m         \u001b[1;32mif\u001b[0m \u001b[1;33m(\u001b[0m\u001b[0mobj\u001b[0m \u001b[1;33m<\u001b[0m \u001b[1;36m0\u001b[0m\u001b[1;33m)\u001b[0m\u001b[1;33m:\u001b[0m\u001b[1;33m\u001b[0m\u001b[1;33m\u001b[0m\u001b[0m\n\u001b[0;32m   4377\u001b[0m             \u001b[0mobj\u001b[0m \u001b[1;33m+=\u001b[0m \u001b[0mN\u001b[0m\u001b[1;33m\u001b[0m\u001b[1;33m\u001b[0m\u001b[0m\n",
      "\u001b[1;31mIndexError\u001b[0m: index 54806 is out of bounds for axis 0 with size 50108"
     ]
    }
   ],
   "source": [
    "j=0\n",
    "for i in reversed(img_to_delete):\n",
    "    j += 1\n",
    "    if j % 100 == 0 :\n",
    "        print(\"Treated images: {}/{}\".format(j, img_to_delete.shape[0]))\n",
    "    clean_centriole_array = np.delete(clean_centriole_array, i, 0)\n",
    "    clean_angle_array = np.delete(clean_angle_array, i, 0)"
   ]
  },
  {
   "cell_type": "markdown",
   "metadata": {},
   "source": [
    "**Check that the modification fix everything**"
   ]
  },
  {
   "cell_type": "code",
   "execution_count": 32,
   "metadata": {},
   "outputs": [
    {
     "name": "stdout",
     "output_type": "stream",
     "text": [
      "So far, so good\n",
      "\n",
      "\n",
      "Centriole list shape: (50108, 32, 32)\n",
      "    Angle list shape: (50108,)\n"
     ]
    }
   ],
   "source": [
    "x = clean_centriole_array\n",
    "\n",
    "img_trouble_id =[]\n",
    "for i in range(x.shape[0]):\n",
    "    if x[i].min() == x[i].max():\n",
    "        img_trouble_id.append(i)\n",
    "        \n",
    "del x\n",
    "\n",
    "if len(img_trouble_id) == 0:\n",
    "    print(\"So far, so good\")\n",
    "    print(\"\\n\")\n",
    "    print(\"Centriole list shape: {}\".format(clean_centriole_array.shape))\n",
    "    print(\"    Angle list shape: {}\".format(clean_angle_array.shape))\n",
    "else: \n",
    "    print(\"For {} images, the picture is completely black\".format(len(img_trouble_id)))"
   ]
  },
  {
   "cell_type": "markdown",
   "metadata": {},
   "source": [
    "### Save Data"
   ]
  },
  {
   "cell_type": "code",
   "execution_count": 33,
   "metadata": {},
   "outputs": [],
   "source": [
    "# save as numpy\n",
    "np.save('centriole_angle_32pixels', clean_angle_array)\n",
    "np.save('centriole_img_32pixels', clean_centriole_array)"
   ]
  }
 ],
 "metadata": {
  "kernelspec": {
   "display_name": "Python 3",
   "language": "python",
   "name": "python3"
  },
  "language_info": {
   "codemirror_mode": {
    "name": "ipython",
    "version": 3
   },
   "file_extension": ".py",
   "mimetype": "text/x-python",
   "name": "python",
   "nbconvert_exporter": "python",
   "pygments_lexer": "ipython3",
   "version": "3.7.4"
  }
 },
 "nbformat": 4,
 "nbformat_minor": 4
}
